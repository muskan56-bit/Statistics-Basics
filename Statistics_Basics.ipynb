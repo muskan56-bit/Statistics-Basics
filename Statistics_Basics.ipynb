{
  "nbformat": 4,
  "nbformat_minor": 0,
  "metadata": {
    "colab": {
      "provenance": []
    },
    "kernelspec": {
      "name": "python3",
      "display_name": "Python 3"
    },
    "language_info": {
      "name": "python"
    }
  },
  "cells": [
    {
      "cell_type": "markdown",
      "source": [
        "#  Statistics Basics"
      ],
      "metadata": {
        "id": "fFeiPZZpKq8l"
      }
    },
    {
      "cell_type": "markdown",
      "source": [
        "q.no.1) What is the difference between descriptive\n",
        "statistics and inferential statistics? Explain with\n",
        "examples."
      ],
      "metadata": {
        "id": "4I84VodqLNJy"
      }
    },
    {
      "cell_type": "markdown",
      "source": [
        "Ans- **Descriptive statistics** summarizes and describes\n",
        "the main features of a specific dataset. It presents\n",
        "information in a way that is easy to understand and\n",
        "interpret. The goal is to describe the data you have\n",
        "collected, not to make any conclusions or predictions\n",
        "about a larger population\n",
        "Example:Suppose we collect 50 students result data\n",
        "and calculate mean , median and range of score and\n",
        "create a bar graph for show the distribution of grades\n",
        "\n",
        "**Inferential statistic**s uses data from a sample to make\n",
        "predictions, test hypotheses, and draw conclusions\n",
        "about a larger population. It goes beyond the raw data\n",
        "to infer or generalize findings. Because it relies on a\n",
        "sample, there is always a degree of uncertainty, which is\n",
        "expressed using probability.\n",
        "Example : we use previous data of student for want to\n",
        "know how if their new study method has improved\n",
        "student ."
      ],
      "metadata": {
        "id": "OpD2upRRLOSS"
      }
    },
    {
      "cell_type": "markdown",
      "source": [
        "q.no.2) What is sampling in statistics? Explain the\n",
        "differences between random and stratified sampling"
      ],
      "metadata": {
        "id": "0f33ltKHLWwl"
      }
    },
    {
      "cell_type": "markdown",
      "source": [
        "Ans- sampling is the process of selecting a smaller\n",
        "group of individuals or items (a sample) from a larger\n",
        "group (a population) to make inferences and draw\n",
        "conclusions about the entire population. Sampling is\n",
        "crucial because it's often impossible or too expensive to\n",
        "collect data from every member of a population\n",
        "Different between random or stratified sampling -\n",
        "**Random**  * Selects individuals randomly from the entire population.\n",
        "Divides the population into\n",
        "* To get a general, unbiased sample of the overall population.\n",
        "*Works best with a\n",
        "homogeneous population\n",
        "(where all individuals are\n",
        "similar).\n",
        "\n",
        "**Stratified**  * Divides the population intosubgroups (strata) first,then randomly samples from each stratum.\n",
        "*To ensure specific, diverse subgroups are represented in the correct proportion\n",
        "*Ideal for heterogeneous populations with distinct subgroups.\n"
      ],
      "metadata": {
        "id": "rVVlYSBKLuTr"
      }
    },
    {
      "cell_type": "markdown",
      "source": [
        "q.no.3) Define mean, median, and mode. Explain why\n",
        "these measures of central tendency are important."
      ],
      "metadata": {
        "id": "05k3847ZN0S0"
      }
    },
    {
      "cell_type": "markdown",
      "source": [
        "Ans- **Mean:** The mean is the arithmetic average of a\n",
        "dataset.\n",
        "Important to measures central tendency -This makes it\n",
        "a great representation of the entire dataset. However, its\n",
        "importance lies in knowing when not to use it. It is highly\n",
        "sensitive to outliers, so it can be misleading in skewed\n",
        "distributions, like income data where a few high earners\n",
        "can inflate the average.\n",
        "\n",
        "**Median:** The median is the middle value of a dataset\n",
        "when it's arranged in ascending or descending order.\n",
        "Important to measure central tendency -The median is\n",
        "dificult because it is resistant to outliers. It provides a\n",
        "better sense of the \"typical\" value in datasets with\n",
        "extreme values.\n",
        "\n",
        "**Mode:** The mode is the value that appears most\n",
        "frequently in a dataset.\n",
        "important to measure central tendency -that works with\n",
        "categorical data, which is information that can be\n",
        "divided into groups (e.g., favorite color, brand of car). Its\n",
        "importance lies in identifying the most common or\n",
        "popular item in a group."
      ],
      "metadata": {
        "id": "manbAV_iN1W6"
      }
    },
    {
      "cell_type": "markdown",
      "source": [
        "q.no.4) Explain skewness and kurtosis. What does a\n",
        "positive skew imply about the data?\n"
      ],
      "metadata": {
        "id": "c0YXGkmfOH36"
      }
    },
    {
      "cell_type": "markdown",
      "source": [
        "Ans- skewness measures the asymmetry of a\n",
        "distribution. A perfectly symmetrical dataset, like a\n",
        "normal distribution (bell curve), has a skewness of zero.\n",
        "When a distribution is asymmetrical, it means the data is\n",
        "not evenly balanced around the mean, and the tail on\n",
        "one side is longer than the other.\n",
        "Positive Skew (Right-Skewed): The tail of the\n",
        "distribution is longer on the right side.\n",
        "\n",
        "\n",
        "Kurtosis measures the \"tailedness\" or \"peakedness\" of\n",
        "a distribution. It tells you how extreme the tails are\n",
        "relative to a normal distribution. High kurtosis indicates\n",
        "that the distribution has heavy tails, meaning there's a\n",
        "higher probability of extreme outliers. Low kurtosis\n",
        "indicates a distribution with light tails, meaning there are\n",
        "fewer outliers.\n",
        "A positive skew means that the data distribution has a\n",
        "long tail extending to the right. This implies that Themean is greater than the median and mode. The\n",
        "mean is pulled to the right by a few extremely large\n",
        "values (outliers) in the right tail."
      ],
      "metadata": {
        "id": "h0ALLQI5OLT0"
      }
    },
    {
      "cell_type": "markdown",
      "source": [
        "q.no.5) Implement a Python program to compute the mean, median, and mode of\n",
        "a given list of numbers.\n",
        "numbers = [12, 15, 12, 18, 19, 12, 20, 22, 19, 19, 24, 24, 24, 26, 28]\n"
      ],
      "metadata": {
        "id": "QmVxM2YmJmlv"
      }
    },
    {
      "cell_type": "code",
      "source": [
        "# claulate the mean, median ,  mode\n",
        "num= [12, 15, 12, 18, 19, 12, 20, 22, 19, 19, 24, 24, 24, 26, 28]\n",
        "result=lambda num : sum(num)/len(num)\n",
        "print(result(num))\n",
        "\n",
        "result1=lambda num : sorted(num)[len(num)//2]\n",
        "print(result1(num))\n",
        "\n",
        "count1=max([num.count(i) for i in num])\n",
        "result2=lambda num : [i for i in num if num.count(i)==count1]\n",
        "print(result2(num))\n",
        "\n"
      ],
      "metadata": {
        "colab": {
          "base_uri": "https://localhost:8080/"
        },
        "id": "sPE2kkbjJrSd",
        "outputId": "4a441560-73fe-499e-e0f0-dffa2c51b6c4"
      },
      "execution_count": null,
      "outputs": [
        {
          "output_type": "stream",
          "name": "stdout",
          "text": [
            "19.6\n",
            "19\n",
            "[12, 12, 19, 12, 19, 19, 24, 24, 24]\n"
          ]
        }
      ]
    },
    {
      "cell_type": "markdown",
      "source": [
        "q.no.6) Compute the covariance and correlation\n",
        "coefficient between the following two datasets provided\n",
        "as lists in Python: list_x = [10, 20, 30, 40, 50] list_y =\n",
        "[15, 25, 35, 45, 60]\n"
      ],
      "metadata": {
        "id": "1nMuL4PyQrJb"
      }
    },
    {
      "cell_type": "code",
      "source": [
        "import numpy as np\n",
        "\n",
        "list_x = [10, 20, 30, 40, 50]\n",
        "list_y = [15, 25, 35, 45, 60]\n",
        "\n",
        "\n",
        "x = np.array(list_x)\n",
        "y = np.array(list_y)\n",
        "\n",
        "cov_matrix = np.cov(x, y)\n",
        "covariance = cov_matrix[0, 1]\n",
        "\n",
        "corr_matrix = np.corrcoef(x, y)\n",
        "correlation_coefficient = corr_matrix[0, 1]\n",
        "\n",
        "print(f\"The covariance between list_x and list_y is: {covariance}\")\n",
        "print(f\"The correlation coefficient between list_x and list_y is: {correlation_coefficient}\")"
      ],
      "metadata": {
        "colab": {
          "base_uri": "https://localhost:8080/"
        },
        "id": "NRfJiKy5TYRy",
        "outputId": "7e973b01-864e-48f6-96d8-0031a5dea14f"
      },
      "execution_count": null,
      "outputs": [
        {
          "output_type": "stream",
          "name": "stdout",
          "text": [
            "The covariance between list_x and list_y is: 275.0\n",
            "The correlation coefficient between list_x and list_y is: 0.995893206467704\n"
          ]
        }
      ]
    },
    {
      "cell_type": "markdown",
      "source": [
        "q.no.7) Write a Python script to draw a boxplot for the\n",
        "following numeric list and identify its outliers. Explain the\n",
        "result: data = [12, 14, 14, 15, 18, 19, 19, 21, 22, 22,\n",
        "23,23, 24, 26, 29, 35]\n"
      ],
      "metadata": {
        "id": "b0EzQjwnQWI7"
      }
    },
    {
      "cell_type": "code",
      "source": [
        "import numpy as np\n",
        "import matplotlib.pyplot as plt\n",
        "\n",
        "data = [12, 14, 14, 15, 18, 19, 19, 21, 22, 22, 23, 23, 24, 26, 29, 35]\n",
        "\n",
        "\n",
        "plt.figure(figsize=(8, 6))\n",
        "plt.boxplot(data)\n",
        "plt.title('Boxplot of Data')\n",
        "plt.ylabel('Values')\n",
        "plt.grid(True)\n",
        "plt.savefig('boxplot.png')\n",
        "print(\"Boxplot saved as boxplot.png\")\n",
        "\n",
        "\n",
        "Q1 = np.percentile(data, 25)\n",
        "Q3 = np.percentile(data, 75)\n",
        "IQR = Q3 - Q1\n",
        "\n",
        "lower_bound = Q1 - 1.5 * IQR\n",
        "upper_bound = Q3 + 1.5 * IQR\n",
        "\n",
        "outliers = [x for x in data if x < lower_bound or x > upper_bound]\n",
        "\n",
        "print(f\"First Quartile (Q1): {Q1}\")\n",
        "print(f\"Third Quartile (Q3): {Q3}\")\n",
        "print(f\"Interquartile Range (IQR): {IQR}\")\n",
        "print(f\"Lower Bound for Outliers: {lower_bound}\")\n",
        "print(f\"Upper Bound for Outliers: {upper_bound}\")\n",
        "print(f\"Outliers: {outliers}\")"
      ],
      "metadata": {
        "colab": {
          "base_uri": "https://localhost:8080/",
          "height": 677
        },
        "id": "0Q_GwFXDSvpB",
        "outputId": "6defed07-49de-4a43-9cee-0ee923626c35"
      },
      "execution_count": null,
      "outputs": [
        {
          "output_type": "stream",
          "name": "stdout",
          "text": [
            "Boxplot saved as boxplot.png\n",
            "First Quartile (Q1): 17.25\n",
            "Third Quartile (Q3): 23.25\n",
            "Interquartile Range (IQR): 6.0\n",
            "Lower Bound for Outliers: 8.25\n",
            "Upper Bound for Outliers: 32.25\n",
            "Outliers: [35]\n"
          ]
        },
        {
          "output_type": "display_data",
          "data": {
            "text/plain": [
              "<Figure size 800x600 with 1 Axes>"
            ],
            "image/png": "[encoded data removed]"
          },
          "metadata": {}
        }
      ]
    },
    {
      "cell_type": "markdown",
      "source": [
        "q.no.8) You are working as a data analyst in an\n",
        "e-commerce company. The marketing team wants to\n",
        "know if there is a relationship between advertising spend\n",
        "and daily sales.\n",
        "● Explain how you would use covariance and correlation\n",
        "to explore this relationship.\n",
        "● Write Python code to compute the correlation between\n",
        "the two lists:\n",
        "advertising_spend = [200, 250, 300, 400, 500]\n",
        "daily_sales = [2200, 2450, 2750, 3200, 4000]\n"
      ],
      "metadata": {
        "id": "Z5PsRVN3P34M"
      }
    },
    {
      "cell_type": "code",
      "source": [
        "\"\"\"@ Covariance\n",
        "Covariance is a measure that shows the direction of the\n",
        "linear relationship between two variables.\n",
        "● Positive Covariance: If advertising spend and daily\n",
        "sales have a positive covariance, it means that\n",
        "when advertising spend increases, daily sales also\n",
        "tend to increase. They move in the same direction.\n",
        "● Negative Covariance: A negative covariance\n",
        "means that when one variable increases, the other\n",
        "tends to decrease. In your case, this would mean\n",
        "that as you spend more on ads, sales go down,\n",
        "which is highly unlikely but theoretically possible.\n",
        "● Zero Covariance: A covariance close to zero\n",
        "suggests there is no linear relationship between the\n",
        "two variables.\n",
        "The main limitation of covariance is that its value is not\n",
        "standardized, making it difficult to interpret the strength\n",
        "of the relationship\n",
        "@ Correlation\n",
        "Correlation, specifically the Pearson correlation\n",
        "coefficient, is a standardized measure that quantifies\n",
        "both the direction and the strength of the linear\n",
        "relationship between two variables. It is essentially a\n",
        "normalized version of covariance.\n",
        "The correlation coefficient (\n",
        "r\n",
        ") always has a value between -1 and +1.\n",
        "● r=+1\n",
        ": Indicates a perfect positive linear relationship.\n",
        "● r=−1\n",
        ": Indicates a perfect negative linear relationship.\n",
        "● r=0\n",
        ": Indicates no linear relationship\"\"\"\n",
        "\n",
        "import numpy as np\n",
        "\n",
        "advertising_spend = [200, 250, 300, 400, 500]\n",
        "daily_sales = [2200, 2450, 2750, 3200, 4000]\n",
        "\n",
        "\n",
        "correlation_matrix = np.corrcoef(advertising_spend, daily_sales)\n",
        "correlation_coefficient = correlation_matrix[0, 1]\n",
        "\n",
        "print(\"Advertising Spend Data:\", advertising_spend)\n",
        "print(\"Daily Sales Data:\", daily_sales)\n",
        "print(f\"\\nThe correlation coefficient between advertising spend and daily sales is: {correlation_coefficient:.4f}\")\n",
        "\n",
        "if correlation_coefficient > 0.7:\n",
        "    print(\"\\nInterpretation: The correlation is very strong and positive. This suggests that as advertising spend increases, daily sales also tend to increase significantly.\")\n",
        "elif correlation_coefficient > 0.4:\n",
        "    print(\"\\nInterpretation: The correlation is moderately strong and positive. This suggests a notable relationship between advertising spend and daily sales.\")\n",
        "else:\n",
        "    print(\"\\nInterpretation: The correlation is weak or non-existent, suggesting that advertising spend may not be a major driver of daily sales at this time.\")\n"
      ],
      "metadata": {
        "colab": {
          "base_uri": "https://localhost:8080/"
        },
        "id": "a39YlBuGRbBp",
        "outputId": "57541f5e-a98f-4136-ab75-1f05bcb5a2f3"
      },
      "execution_count": null,
      "outputs": [
        {
          "output_type": "stream",
          "name": "stdout",
          "text": [
            "Advertising Spend Data: [200, 250, 300, 400, 500]\n",
            "Daily Sales Data: [2200, 2450, 2750, 3200, 4000]\n",
            "\n",
            "The correlation coefficient between advertising spend and daily sales is: 0.9936\n",
            "\n",
            "Interpretation: The correlation is very strong and positive. This suggests that as advertising spend increases, daily sales also tend to increase significantly.\n"
          ]
        }
      ]
    },
    {
      "cell_type": "markdown",
      "source": [
        "q.no.9) Your team has collected customer satisfaction\n",
        "survey data on a scale of 1-10 and wants to understand\n",
        "its distribution before launching a new product.\n",
        "● Explain which summary statistics and visualizations\n",
        "(e.g. mean, standard deviation, histogram) you’d use.\n",
        "● Write Python code to create a histogram using\n",
        "Matplotlib for the survey data:\n",
        "survey_scores = [7, 8, 5, 9, 6, 7, 8, 9, 10, 4, 7, 6, 9, 8, 7]\n"
      ],
      "metadata": {
        "id": "QH62FIUnOygr"
      }
    },
    {
      "cell_type": "code",
      "source": [
        "\"\"\"\"the summary of collecting by our data :\n",
        "@ Summary Statistics:\n",
        "Mean: The average score, which provides a single\n",
        "number to represent overall satisfaction.\n",
        "Median: The middle value, which is useful because it\n",
        "isn't affected by any extreme scores and gives a truer\n",
        "sense of the typical rating.\n",
        "Standard Deviation: A measure of how spread out the\n",
        "scores are. A small standard deviation means most\n",
        "people gave similar scores, while a large one indicates a\n",
        "wider range of opinions.\n",
        " @ Visualization:\n",
        " Histogram: This is the best way to visualize the\n",
        "distribution of your data. It shows how often each score\n",
        "(from 1 to 10) was given, making it easy to see if most\n",
        "customers are satisfied (scores are high) or if there's a\n",
        "mix of opinions.\"\"\"\n",
        "\n",
        "import matplotlib.pyplot as plt\n",
        "import numpy as np\n",
        "\n",
        "survey_scores = [7, 8, 5, 9, 6, 7, 8, 9, 10, 4, 7, 6, 9, 8, 7]\n",
        "\n",
        "\n",
        "plt.hist(survey_scores, bins=np.arange(1, 12), rwidth=0.8, align='left')\n",
        "\n",
        "\n",
        "plt.title('Customer Satisfaction Survey Score Distribution')\n",
        "plt.xlabel('Survey Score')\n",
        "plt.ylabel('Frequency')\n",
        "\n",
        "\n",
        "plt.xticks(np.arange(1, 11))\n",
        "\n",
        "plt.grid(axis='y', alpha=0.75)\n",
        "\n",
        "plt.show()"
      ],
      "metadata": {
        "colab": {
          "base_uri": "https://localhost:8080/",
          "height": 472
        },
        "id": "yyVQYa9oPgHy",
        "outputId": "db826e61-1174-46ab-97c4-f7af5047125a"
      },
      "execution_count": null,
      "outputs": [
        {
          "output_type": "display_data",
          "data": {
            "text/plain": [
              "<Figure size 640x480 with 1 Axes>"
            ],
            "image/png": "[encoded data removed]"
          },
          "metadata": {}
        }
      ]
    }
  ]
}